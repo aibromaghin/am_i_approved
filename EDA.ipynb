{
 "cells": [
  {
   "cell_type": "markdown",
   "id": "4b184f0d",
   "metadata": {},
   "source": [
    "# Introduction\n",
    "\n",
    "The goal of this project is to train a machine learning model that can successfully predict whether or not someone will be approved for a consumer loan. Loan officers typically use a logic-based framework to decide whether or note someone will be approved. This involves calculating debt-to-income (DTI) and evaluating credit reports to see if someone will qualify for a specific loan. The process is not particularly difficult, however, many consumers have poor financial literacy and may not have any idea if they will qualify for a loan before talking to a lender. My aim is to deploy the model so that consumers can easily see if they are likely to qualify for a loan before taking a hit to their credit.\n",
    "\n",
    "This project has two parts. The first cleans the data and performs analysis to learn more about the data. The second trains and evaluates several machine learning models on the loan data. The data used in this notebook was used with permission from a small credit union. The credit union recently transitioned to a new Loan Origination System (LOS), so there is limited data to train the model. If an accuracy of 90% cannot be acheived, it will note be deployed."
   ]
  },
  {
   "cell_type": "markdown",
   "id": "cee67c57",
   "metadata": {},
   "source": [
    "# Data Cleaning"
   ]
  },
  {
   "cell_type": "code",
   "execution_count": 1,
   "id": "5998a812-9a66-401a-8571-a4624c9629f0",
   "metadata": {},
   "outputs": [],
   "source": [
    "# data manipulation\n",
    "import pandas as pd\n",
    "import numpy as np\n",
    "import regex as re\n",
    "\n",
    "# data viz\n",
    "import matplotlib.pyplot as plt\n",
    "import seaborn as sns\n",
    "sns.set_theme()\n",
    "%matplotlib inline\n",
    "\n",
    "# ignore warnings\n",
    "import warnings\n",
    "warnings.filterwarnings('ignore')"
   ]
  },
  {
   "cell_type": "code",
   "execution_count": 2,
   "id": "a88b21f7-d017-4024-94d8-0d59aa26f6ba",
   "metadata": {},
   "outputs": [
    {
     "data": {
      "text/html": [
       "<div>\n",
       "<style scoped>\n",
       "    .dataframe tbody tr th:only-of-type {\n",
       "        vertical-align: middle;\n",
       "    }\n",
       "\n",
       "    .dataframe tbody tr th {\n",
       "        vertical-align: top;\n",
       "    }\n",
       "\n",
       "    .dataframe thead th {\n",
       "        text-align: right;\n",
       "    }\n",
       "</style>\n",
       "<table border=\"1\" class=\"dataframe\">\n",
       "  <thead>\n",
       "    <tr style=\"text-align: right;\">\n",
       "      <th></th>\n",
       "      <th>viewed</th>\n",
       "      <th>actions</th>\n",
       "      <th>loan product</th>\n",
       "      <th>status</th>\n",
       "      <th>active score</th>\n",
       "      <th>amount approved</th>\n",
       "      <th>amount requested</th>\n",
       "      <th>approved rate</th>\n",
       "      <th>applicant role</th>\n",
       "      <th>ratio - annual income</th>\n",
       "      <th>ratio - credit score</th>\n",
       "      <th>ratio - monthly housing</th>\n",
       "      <th>ratio - monthly income</th>\n",
       "      <th>ratio - monthly other income</th>\n",
       "      <th>ratio - monthly payment requested</th>\n",
       "      <th>ratio - monthly payment decision</th>\n",
       "      <th>ratio - monthly tradeline debt</th>\n",
       "    </tr>\n",
       "  </thead>\n",
       "  <tbody>\n",
       "    <tr>\n",
       "      <th>0</th>\n",
       "      <td>True</td>\n",
       "      <td>NaN</td>\n",
       "      <td>Unsecured/Signature</td>\n",
       "      <td>Declined</td>\n",
       "      <td>746.0</td>\n",
       "      <td>NaN</td>\n",
       "      <td>1000.0</td>\n",
       "      <td>NaN</td>\n",
       "      <td>Primary</td>\n",
       "      <td>18000.0</td>\n",
       "      <td>746.0</td>\n",
       "      <td>0.0</td>\n",
       "      <td>1500.0</td>\n",
       "      <td>1500.0</td>\n",
       "      <td>88.38</td>\n",
       "      <td>NaN</td>\n",
       "      <td>512.0</td>\n",
       "    </tr>\n",
       "    <tr>\n",
       "      <th>1</th>\n",
       "      <td>True</td>\n",
       "      <td>NaN</td>\n",
       "      <td>VISA Consumer 9.95</td>\n",
       "      <td>Declined</td>\n",
       "      <td>NaN</td>\n",
       "      <td>NaN</td>\n",
       "      <td>300.0</td>\n",
       "      <td>NaN</td>\n",
       "      <td>Primary</td>\n",
       "      <td>33600.0</td>\n",
       "      <td>NaN</td>\n",
       "      <td>0.0</td>\n",
       "      <td>2800.0</td>\n",
       "      <td>NaN</td>\n",
       "      <td>NaN</td>\n",
       "      <td>NaN</td>\n",
       "      <td>0.0</td>\n",
       "    </tr>\n",
       "    <tr>\n",
       "      <th>2</th>\n",
       "      <td>True</td>\n",
       "      <td>NaN</td>\n",
       "      <td>VISA Consumer 9.95</td>\n",
       "      <td>Declined</td>\n",
       "      <td>569.0</td>\n",
       "      <td>NaN</td>\n",
       "      <td>11450.0</td>\n",
       "      <td>NaN</td>\n",
       "      <td>Primary</td>\n",
       "      <td>48000.0</td>\n",
       "      <td>569.0</td>\n",
       "      <td>0.0</td>\n",
       "      <td>4000.0</td>\n",
       "      <td>NaN</td>\n",
       "      <td>NaN</td>\n",
       "      <td>NaN</td>\n",
       "      <td>1187.0</td>\n",
       "    </tr>\n",
       "    <tr>\n",
       "      <th>3</th>\n",
       "      <td>True</td>\n",
       "      <td>NaN</td>\n",
       "      <td>RV</td>\n",
       "      <td>Declined</td>\n",
       "      <td>734.0</td>\n",
       "      <td>NaN</td>\n",
       "      <td>30000.0</td>\n",
       "      <td>NaN</td>\n",
       "      <td>Primary</td>\n",
       "      <td>27600.0</td>\n",
       "      <td>734.0</td>\n",
       "      <td>442.0</td>\n",
       "      <td>2300.0</td>\n",
       "      <td>NaN</td>\n",
       "      <td>NaN</td>\n",
       "      <td>NaN</td>\n",
       "      <td>293.0</td>\n",
       "    </tr>\n",
       "    <tr>\n",
       "      <th>4</th>\n",
       "      <td>True</td>\n",
       "      <td>NaN</td>\n",
       "      <td>Unsecured/Signature</td>\n",
       "      <td>Declined</td>\n",
       "      <td>NaN</td>\n",
       "      <td>NaN</td>\n",
       "      <td>7500.0</td>\n",
       "      <td>NaN</td>\n",
       "      <td>Primary</td>\n",
       "      <td>19800.0</td>\n",
       "      <td>NaN</td>\n",
       "      <td>0.0</td>\n",
       "      <td>1650.0</td>\n",
       "      <td>250.0</td>\n",
       "      <td>NaN</td>\n",
       "      <td>NaN</td>\n",
       "      <td>0.0</td>\n",
       "    </tr>\n",
       "  </tbody>\n",
       "</table>\n",
       "</div>"
      ],
      "text/plain": [
       "   viewed  actions         loan product    status  active score  \\\n",
       "0    True      NaN  Unsecured/Signature  Declined         746.0   \n",
       "1    True      NaN   VISA Consumer 9.95  Declined           NaN   \n",
       "2    True      NaN   VISA Consumer 9.95  Declined         569.0   \n",
       "3    True      NaN                   RV  Declined         734.0   \n",
       "4    True      NaN  Unsecured/Signature  Declined           NaN   \n",
       "\n",
       "   amount approved  amount requested  approved rate applicant role  \\\n",
       "0              NaN            1000.0            NaN        Primary   \n",
       "1              NaN             300.0            NaN        Primary   \n",
       "2              NaN           11450.0            NaN        Primary   \n",
       "3              NaN           30000.0            NaN        Primary   \n",
       "4              NaN            7500.0            NaN        Primary   \n",
       "\n",
       "   ratio - annual income  ratio - credit score  ratio - monthly housing  \\\n",
       "0                18000.0                 746.0                      0.0   \n",
       "1                33600.0                   NaN                      0.0   \n",
       "2                48000.0                 569.0                      0.0   \n",
       "3                27600.0                 734.0                    442.0   \n",
       "4                19800.0                   NaN                      0.0   \n",
       "\n",
       "   ratio - monthly income  ratio - monthly other income  \\\n",
       "0                  1500.0                        1500.0   \n",
       "1                  2800.0                           NaN   \n",
       "2                  4000.0                           NaN   \n",
       "3                  2300.0                           NaN   \n",
       "4                  1650.0                         250.0   \n",
       "\n",
       "   ratio - monthly payment requested  ratio - monthly payment decision  \\\n",
       "0                              88.38                               NaN   \n",
       "1                                NaN                               NaN   \n",
       "2                                NaN                               NaN   \n",
       "3                                NaN                               NaN   \n",
       "4                                NaN                               NaN   \n",
       "\n",
       "   ratio - monthly tradeline debt  \n",
       "0                           512.0  \n",
       "1                             0.0  \n",
       "2                          1187.0  \n",
       "3                           293.0  \n",
       "4                             0.0  "
      ]
     },
     "execution_count": 2,
     "metadata": {},
     "output_type": "execute_result"
    }
   ],
   "source": [
    "# read in data\n",
    "df = pd.read_excel('Consumer Loans Application Data.xlsx')\n",
    "\n",
    "# convert columns and data to lower case\n",
    "df.columns = [col.lower() for col in df.columns]\n",
    "\n",
    "df.head()"
   ]
  },
  {
   "cell_type": "code",
   "execution_count": 3,
   "id": "7e0258de",
   "metadata": {},
   "outputs": [
    {
     "data": {
      "text/html": [
       "<div>\n",
       "<style scoped>\n",
       "    .dataframe tbody tr th:only-of-type {\n",
       "        vertical-align: middle;\n",
       "    }\n",
       "\n",
       "    .dataframe tbody tr th {\n",
       "        vertical-align: top;\n",
       "    }\n",
       "\n",
       "    .dataframe thead th {\n",
       "        text-align: right;\n",
       "    }\n",
       "</style>\n",
       "<table border=\"1\" class=\"dataframe\">\n",
       "  <thead>\n",
       "    <tr style=\"text-align: right;\">\n",
       "      <th></th>\n",
       "      <th>viewed</th>\n",
       "      <th>actions</th>\n",
       "      <th>loan product</th>\n",
       "      <th>status</th>\n",
       "      <th>active score</th>\n",
       "      <th>amount approved</th>\n",
       "      <th>amount requested</th>\n",
       "      <th>approved rate</th>\n",
       "      <th>applicant role</th>\n",
       "      <th>ratio - annual income</th>\n",
       "      <th>ratio - credit score</th>\n",
       "      <th>ratio - monthly housing</th>\n",
       "      <th>ratio - monthly income</th>\n",
       "      <th>ratio - monthly other income</th>\n",
       "      <th>ratio - monthly payment requested</th>\n",
       "      <th>ratio - monthly payment decision</th>\n",
       "      <th>ratio - monthly tradeline debt</th>\n",
       "    </tr>\n",
       "  </thead>\n",
       "  <tbody>\n",
       "    <tr>\n",
       "      <th>1197</th>\n",
       "      <td>True</td>\n",
       "      <td>NaN</td>\n",
       "      <td>Boat</td>\n",
       "      <td>Approved</td>\n",
       "      <td>NaN</td>\n",
       "      <td>17974.0</td>\n",
       "      <td>17053.0</td>\n",
       "      <td>0.0425</td>\n",
       "      <td>Primary</td>\n",
       "      <td>NaN</td>\n",
       "      <td>NaN</td>\n",
       "      <td>NaN</td>\n",
       "      <td>NaN</td>\n",
       "      <td>NaN</td>\n",
       "      <td>NaN</td>\n",
       "      <td>NaN</td>\n",
       "      <td>NaN</td>\n",
       "    </tr>\n",
       "    <tr>\n",
       "      <th>1198</th>\n",
       "      <td>True</td>\n",
       "      <td>NaN</td>\n",
       "      <td>Auto</td>\n",
       "      <td>Approved</td>\n",
       "      <td>730.0</td>\n",
       "      <td>13000.0</td>\n",
       "      <td>13000.0</td>\n",
       "      <td>0.0285</td>\n",
       "      <td>Primary</td>\n",
       "      <td>37700.0</td>\n",
       "      <td>730.0</td>\n",
       "      <td>300.0</td>\n",
       "      <td>3141.667</td>\n",
       "      <td>NaN</td>\n",
       "      <td>232.73</td>\n",
       "      <td>233.02</td>\n",
       "      <td>0.00</td>\n",
       "    </tr>\n",
       "    <tr>\n",
       "      <th>1199</th>\n",
       "      <td>True</td>\n",
       "      <td>NaN</td>\n",
       "      <td>Auto</td>\n",
       "      <td>Approved</td>\n",
       "      <td>732.0</td>\n",
       "      <td>30000.0</td>\n",
       "      <td>30000.0</td>\n",
       "      <td>0.0310</td>\n",
       "      <td>Primary</td>\n",
       "      <td>129600.0</td>\n",
       "      <td>732.0</td>\n",
       "      <td>1600.0</td>\n",
       "      <td>10800.000</td>\n",
       "      <td>10800.0</td>\n",
       "      <td>457.15</td>\n",
       "      <td>457.78</td>\n",
       "      <td>1481.84</td>\n",
       "    </tr>\n",
       "    <tr>\n",
       "      <th>1200</th>\n",
       "      <td>True</td>\n",
       "      <td>NaN</td>\n",
       "      <td>Auto</td>\n",
       "      <td>Approved</td>\n",
       "      <td>715.0</td>\n",
       "      <td>5000.0</td>\n",
       "      <td>5000.0</td>\n",
       "      <td>0.0460</td>\n",
       "      <td>Primary</td>\n",
       "      <td>1200.0</td>\n",
       "      <td>715.0</td>\n",
       "      <td>0.0</td>\n",
       "      <td>100.000</td>\n",
       "      <td>NaN</td>\n",
       "      <td>218.46</td>\n",
       "      <td>214.10</td>\n",
       "      <td>44.00</td>\n",
       "    </tr>\n",
       "    <tr>\n",
       "      <th>1201</th>\n",
       "      <td>True</td>\n",
       "      <td>NaN</td>\n",
       "      <td>Unsecured/Signature</td>\n",
       "      <td>Approved</td>\n",
       "      <td>604.0</td>\n",
       "      <td>1015.0</td>\n",
       "      <td>1000.0</td>\n",
       "      <td>0.1399</td>\n",
       "      <td>Primary</td>\n",
       "      <td>31200.0</td>\n",
       "      <td>604.0</td>\n",
       "      <td>495.0</td>\n",
       "      <td>2600.000</td>\n",
       "      <td>NaN</td>\n",
       "      <td>NaN</td>\n",
       "      <td>42.43</td>\n",
       "      <td>0.00</td>\n",
       "    </tr>\n",
       "  </tbody>\n",
       "</table>\n",
       "</div>"
      ],
      "text/plain": [
       "      viewed  actions         loan product    status  active score  \\\n",
       "1197    True      NaN                 Boat  Approved           NaN   \n",
       "1198    True      NaN                 Auto  Approved         730.0   \n",
       "1199    True      NaN                 Auto  Approved         732.0   \n",
       "1200    True      NaN                 Auto  Approved         715.0   \n",
       "1201    True      NaN  Unsecured/Signature  Approved         604.0   \n",
       "\n",
       "      amount approved  amount requested  approved rate applicant role  \\\n",
       "1197          17974.0           17053.0         0.0425        Primary   \n",
       "1198          13000.0           13000.0         0.0285        Primary   \n",
       "1199          30000.0           30000.0         0.0310        Primary   \n",
       "1200           5000.0            5000.0         0.0460        Primary   \n",
       "1201           1015.0            1000.0         0.1399        Primary   \n",
       "\n",
       "      ratio - annual income  ratio - credit score  ratio - monthly housing  \\\n",
       "1197                    NaN                   NaN                      NaN   \n",
       "1198                37700.0                 730.0                    300.0   \n",
       "1199               129600.0                 732.0                   1600.0   \n",
       "1200                 1200.0                 715.0                      0.0   \n",
       "1201                31200.0                 604.0                    495.0   \n",
       "\n",
       "      ratio - monthly income  ratio - monthly other income  \\\n",
       "1197                     NaN                           NaN   \n",
       "1198                3141.667                           NaN   \n",
       "1199               10800.000                       10800.0   \n",
       "1200                 100.000                           NaN   \n",
       "1201                2600.000                           NaN   \n",
       "\n",
       "      ratio - monthly payment requested  ratio - monthly payment decision  \\\n",
       "1197                                NaN                               NaN   \n",
       "1198                             232.73                            233.02   \n",
       "1199                             457.15                            457.78   \n",
       "1200                             218.46                            214.10   \n",
       "1201                                NaN                             42.43   \n",
       "\n",
       "      ratio - monthly tradeline debt  \n",
       "1197                             NaN  \n",
       "1198                            0.00  \n",
       "1199                         1481.84  \n",
       "1200                           44.00  \n",
       "1201                            0.00  "
      ]
     },
     "execution_count": 3,
     "metadata": {},
     "output_type": "execute_result"
    }
   ],
   "source": [
    "df.tail()"
   ]
  },
  {
   "cell_type": "code",
   "execution_count": 4,
   "id": "1d8239ba-f436-42ae-b631-2c8afcd40380",
   "metadata": {},
   "outputs": [
    {
     "name": "stdout",
     "output_type": "stream",
     "text": [
      "<class 'pandas.core.frame.DataFrame'>\n",
      "RangeIndex: 1202 entries, 0 to 1201\n",
      "Data columns (total 17 columns):\n",
      " #   Column                             Non-Null Count  Dtype  \n",
      "---  ------                             --------------  -----  \n",
      " 0   viewed                             1202 non-null   bool   \n",
      " 1   actions                            0 non-null      float64\n",
      " 2   loan product                       1202 non-null   object \n",
      " 3   status                             1202 non-null   object \n",
      " 4   active score                       949 non-null    float64\n",
      " 5   amount approved                    429 non-null    float64\n",
      " 6   amount requested                   1202 non-null   float64\n",
      " 7   approved rate                      429 non-null    float64\n",
      " 8   applicant role                     1202 non-null   object \n",
      " 9   ratio - annual income              951 non-null    float64\n",
      " 10  ratio - credit score               771 non-null    float64\n",
      " 11  ratio - monthly housing            972 non-null    float64\n",
      " 12  ratio - monthly income             951 non-null    float64\n",
      " 13  ratio - monthly other income       115 non-null    float64\n",
      " 14  ratio - monthly payment requested  463 non-null    float64\n",
      " 15  ratio - monthly payment decision   358 non-null    float64\n",
      " 16  ratio - monthly tradeline debt     964 non-null    float64\n",
      "dtypes: bool(1), float64(13), object(3)\n",
      "memory usage: 151.5+ KB\n"
     ]
    }
   ],
   "source": [
    "df.info()"
   ]
  },
  {
   "cell_type": "code",
   "execution_count": 5,
   "id": "0c1791fb",
   "metadata": {},
   "outputs": [
    {
     "data": {
      "text/plain": [
       "(1202, 17)"
      ]
     },
     "execution_count": 5,
     "metadata": {},
     "output_type": "execute_result"
    }
   ],
   "source": [
    "df.shape"
   ]
  },
  {
   "cell_type": "markdown",
   "id": "67e0b48f",
   "metadata": {},
   "source": [
    "There are a lot of null values in the dataset and some of the features are redundant. Others have confusing or inaccurate names. I will rename some of the columns, drop redundant data, and fill in missing values where able."
   ]
  },
  {
   "cell_type": "code",
   "execution_count": 8,
   "id": "2ab2cc26",
   "metadata": {},
   "outputs": [
    {
     "name": "stdout",
     "output_type": "stream",
     "text": [
      "True     1190\n",
      "False      12\n",
      "Name: viewed, dtype: int64\n",
      "\n",
      "\n",
      "Primary    1202\n",
      "Name: applicant role, dtype: int64\n",
      "\n",
      "\n"
     ]
    }
   ],
   "source": [
    "# check some features to see if they contain meaningful information\n",
    "for col in ['viewed', 'applicant role']:\n",
    "    print(df[col].value_counts())\n",
    "    print('\\n')"
   ]
  },
  {
   "cell_type": "code",
   "execution_count": 9,
   "id": "f245a954",
   "metadata": {},
   "outputs": [],
   "source": [
    "# drop redundant columns\n",
    "redundant = ['viewed', 'actions', 'applicant role', 'active score']\n",
    "df.drop(columns=redundant, axis=1, inplace=True)"
   ]
  },
  {
   "cell_type": "code",
   "execution_count": 10,
   "id": "54018b6c",
   "metadata": {},
   "outputs": [],
   "source": [
    "# remove ratio - from columns names\n",
    "cols = list(df.columns)\n",
    "for i in range(len(cols)):\n",
    "    cols[i] = re.sub('ratio - ', '', cols[i])\n",
    "df.columns = cols"
   ]
  },
  {
   "cell_type": "code",
   "execution_count": 11,
   "id": "d075ff0c",
   "metadata": {},
   "outputs": [
    {
     "data": {
      "text/html": [
       "<div>\n",
       "<style scoped>\n",
       "    .dataframe tbody tr th:only-of-type {\n",
       "        vertical-align: middle;\n",
       "    }\n",
       "\n",
       "    .dataframe tbody tr th {\n",
       "        vertical-align: top;\n",
       "    }\n",
       "\n",
       "    .dataframe thead th {\n",
       "        text-align: right;\n",
       "    }\n",
       "</style>\n",
       "<table border=\"1\" class=\"dataframe\">\n",
       "  <thead>\n",
       "    <tr style=\"text-align: right;\">\n",
       "      <th></th>\n",
       "      <th>loan product</th>\n",
       "      <th>status</th>\n",
       "      <th>amount approved</th>\n",
       "      <th>amount requested</th>\n",
       "      <th>approved rate</th>\n",
       "      <th>annual income</th>\n",
       "      <th>credit score</th>\n",
       "      <th>monthly housing</th>\n",
       "      <th>monthly income</th>\n",
       "      <th>monthly other income</th>\n",
       "      <th>monthly payment requested</th>\n",
       "      <th>monthly payment decision</th>\n",
       "      <th>monthly tradeline debt</th>\n",
       "    </tr>\n",
       "  </thead>\n",
       "  <tbody>\n",
       "    <tr>\n",
       "      <th>0</th>\n",
       "      <td>Unsecured/Signature</td>\n",
       "      <td>Declined</td>\n",
       "      <td>NaN</td>\n",
       "      <td>1000.0</td>\n",
       "      <td>NaN</td>\n",
       "      <td>18000.0</td>\n",
       "      <td>746.0</td>\n",
       "      <td>0.0</td>\n",
       "      <td>1500.0</td>\n",
       "      <td>1500.0</td>\n",
       "      <td>88.38</td>\n",
       "      <td>NaN</td>\n",
       "      <td>512.0</td>\n",
       "    </tr>\n",
       "    <tr>\n",
       "      <th>1</th>\n",
       "      <td>VISA Consumer 9.95</td>\n",
       "      <td>Declined</td>\n",
       "      <td>NaN</td>\n",
       "      <td>300.0</td>\n",
       "      <td>NaN</td>\n",
       "      <td>33600.0</td>\n",
       "      <td>NaN</td>\n",
       "      <td>0.0</td>\n",
       "      <td>2800.0</td>\n",
       "      <td>NaN</td>\n",
       "      <td>NaN</td>\n",
       "      <td>NaN</td>\n",
       "      <td>0.0</td>\n",
       "    </tr>\n",
       "    <tr>\n",
       "      <th>2</th>\n",
       "      <td>VISA Consumer 9.95</td>\n",
       "      <td>Declined</td>\n",
       "      <td>NaN</td>\n",
       "      <td>11450.0</td>\n",
       "      <td>NaN</td>\n",
       "      <td>48000.0</td>\n",
       "      <td>569.0</td>\n",
       "      <td>0.0</td>\n",
       "      <td>4000.0</td>\n",
       "      <td>NaN</td>\n",
       "      <td>NaN</td>\n",
       "      <td>NaN</td>\n",
       "      <td>1187.0</td>\n",
       "    </tr>\n",
       "    <tr>\n",
       "      <th>3</th>\n",
       "      <td>RV</td>\n",
       "      <td>Declined</td>\n",
       "      <td>NaN</td>\n",
       "      <td>30000.0</td>\n",
       "      <td>NaN</td>\n",
       "      <td>27600.0</td>\n",
       "      <td>734.0</td>\n",
       "      <td>442.0</td>\n",
       "      <td>2300.0</td>\n",
       "      <td>NaN</td>\n",
       "      <td>NaN</td>\n",
       "      <td>NaN</td>\n",
       "      <td>293.0</td>\n",
       "    </tr>\n",
       "    <tr>\n",
       "      <th>4</th>\n",
       "      <td>Unsecured/Signature</td>\n",
       "      <td>Declined</td>\n",
       "      <td>NaN</td>\n",
       "      <td>7500.0</td>\n",
       "      <td>NaN</td>\n",
       "      <td>19800.0</td>\n",
       "      <td>NaN</td>\n",
       "      <td>0.0</td>\n",
       "      <td>1650.0</td>\n",
       "      <td>250.0</td>\n",
       "      <td>NaN</td>\n",
       "      <td>NaN</td>\n",
       "      <td>0.0</td>\n",
       "    </tr>\n",
       "  </tbody>\n",
       "</table>\n",
       "</div>"
      ],
      "text/plain": [
       "          loan product    status  amount approved  amount requested  \\\n",
       "0  Unsecured/Signature  Declined              NaN            1000.0   \n",
       "1   VISA Consumer 9.95  Declined              NaN             300.0   \n",
       "2   VISA Consumer 9.95  Declined              NaN           11450.0   \n",
       "3                   RV  Declined              NaN           30000.0   \n",
       "4  Unsecured/Signature  Declined              NaN            7500.0   \n",
       "\n",
       "   approved rate  annual income  credit score  monthly housing  \\\n",
       "0            NaN        18000.0         746.0              0.0   \n",
       "1            NaN        33600.0           NaN              0.0   \n",
       "2            NaN        48000.0         569.0              0.0   \n",
       "3            NaN        27600.0         734.0            442.0   \n",
       "4            NaN        19800.0           NaN              0.0   \n",
       "\n",
       "   monthly income  monthly other income  monthly payment requested  \\\n",
       "0          1500.0                1500.0                      88.38   \n",
       "1          2800.0                   NaN                        NaN   \n",
       "2          4000.0                   NaN                        NaN   \n",
       "3          2300.0                   NaN                        NaN   \n",
       "4          1650.0                 250.0                        NaN   \n",
       "\n",
       "   monthly payment decision  monthly tradeline debt  \n",
       "0                       NaN                   512.0  \n",
       "1                       NaN                     0.0  \n",
       "2                       NaN                  1187.0  \n",
       "3                       NaN                   293.0  \n",
       "4                       NaN                     0.0  "
      ]
     },
     "execution_count": 11,
     "metadata": {},
     "output_type": "execute_result"
    }
   ],
   "source": [
    "df.head()"
   ]
  },
  {
   "cell_type": "code",
   "execution_count": 12,
   "id": "d5f1e5c1",
   "metadata": {},
   "outputs": [
    {
     "name": "stdout",
     "output_type": "stream",
     "text": [
      "<class 'pandas.core.frame.DataFrame'>\n",
      "RangeIndex: 1202 entries, 0 to 1201\n",
      "Data columns (total 13 columns):\n",
      " #   Column                     Non-Null Count  Dtype  \n",
      "---  ------                     --------------  -----  \n",
      " 0   loan product               1202 non-null   object \n",
      " 1   status                     1202 non-null   object \n",
      " 2   amount approved            429 non-null    float64\n",
      " 3   amount requested           1202 non-null   float64\n",
      " 4   approved rate              429 non-null    float64\n",
      " 5   annual income              951 non-null    float64\n",
      " 6   credit score               771 non-null    float64\n",
      " 7   monthly housing            972 non-null    float64\n",
      " 8   monthly income             951 non-null    float64\n",
      " 9   monthly other income       115 non-null    float64\n",
      " 10  monthly payment requested  463 non-null    float64\n",
      " 11  monthly payment decision   358 non-null    float64\n",
      " 12  monthly tradeline debt     964 non-null    float64\n",
      "dtypes: float64(11), object(2)\n",
      "memory usage: 122.2+ KB\n"
     ]
    }
   ],
   "source": [
    "df.info()"
   ]
  },
  {
   "cell_type": "markdown",
   "id": "4ae28533",
   "metadata": {},
   "source": [
    "It is clear that we have a lot of missing values. This is understandable, as a loan that is not accepted should not have a value for amount approved. Similarly, not all applicants may have reported income or other income. I'll fill the missing values with 0 and will also convert the \"status\" column to a binary feature."
   ]
  },
  {
   "cell_type": "code",
   "execution_count": 13,
   "id": "779d8b3d",
   "metadata": {},
   "outputs": [],
   "source": [
    "df.fillna(0, inplace=True)\n",
    "df['status'].replace({'Approved': 1, 'Declined': 0}, inplace=True)"
   ]
  },
  {
   "cell_type": "markdown",
   "id": "4d9b3c68",
   "metadata": {},
   "source": [
    "# 1. How many loans were approved?"
   ]
  },
  {
   "cell_type": "code",
   "execution_count": 14,
   "id": "bae42aaa-1c4a-4af9-b909-9b4a12d55181",
   "metadata": {},
   "outputs": [
    {
     "data": {
      "text/plain": [
       "<AxesSubplot:>"
      ]
     },
     "execution_count": 14,
     "metadata": {},
     "output_type": "execute_result"
    },
    {
     "data": {
      "image/png": "[encoded data removed]",
      "text/plain": [
       "<Figure size 432x288 with 1 Axes>"
      ]
     },
     "metadata": {
      "needs_background": "light"
     },
     "output_type": "display_data"
    }
   ],
   "source": [
    "df.status.hist()"
   ]
  },
  {
   "cell_type": "code",
   "execution_count": 15,
   "id": "c4c400f0",
   "metadata": {},
   "outputs": [
    {
     "name": "stdout",
     "output_type": "stream",
     "text": [
      "Number declined: 765\n",
      "Number approved: 437\n",
      "\n",
      "Percent declined: 63.6%\n",
      "Percent approved: 36.4%\n"
     ]
    }
   ],
   "source": [
    "declined = df.status.value_counts()[0]\n",
    "approved = df.status.value_counts()[1]\n",
    "\n",
    "percent_dec = declined / df.status.size * 100\n",
    "percent_app = approved / df.status.size * 100\n",
    "\n",
    "print(f'Number declined: {declined}')\n",
    "print(f'Number approved: {approved}\\n')\n",
    "\n",
    "print('Percent declined: {:0.1f}%'.format(percent_dec))\n",
    "print('Percent approved: {:0.1f}%'.format(percent_app))"
   ]
  },
  {
   "cell_type": "markdown",
   "id": "95d31ffb",
   "metadata": {},
   "source": [
    "# 2. What is the most common type of requested loan?"
   ]
  },
  {
   "cell_type": "code",
   "execution_count": 41,
   "id": "afd89afc",
   "metadata": {},
   "outputs": [
    {
     "name": "stdout",
     "output_type": "stream",
     "text": [
      "The most common requested loan product is: Auto loan\n",
      "38.10% of all loan applications are for Auto loans\n"
     ]
    }
   ],
   "source": [
    "value_counts = df['loan product'].value_counts()\n",
    "most_freq_percent = value_counts[0] / df['loan product'].size * 100\n",
    "most_freq_product = df['loan product'].mode()\n",
    "\n",
    "print(f'The most common requested loan product is: {most_freq_product[0]} loan')\n",
    "print(f'{most_freq_percent:.2f}% of all loan applications are for {most_freq_product[0]} loans')"
   ]
  },
  {
   "cell_type": "markdown",
   "id": "6eb665ff",
   "metadata": {},
   "source": [
    "# 3. What type of loan is most likely to be approved?"
   ]
  },
  {
   "cell_type": "code",
   "execution_count": 82,
   "id": "0d2ccac7",
   "metadata": {},
   "outputs": [
    {
     "data": {
      "text/html": [
       "<div>\n",
       "<style scoped>\n",
       "    .dataframe tbody tr th:only-of-type {\n",
       "        vertical-align: middle;\n",
       "    }\n",
       "\n",
       "    .dataframe tbody tr th {\n",
       "        vertical-align: top;\n",
       "    }\n",
       "\n",
       "    .dataframe thead th {\n",
       "        text-align: right;\n",
       "    }\n",
       "</style>\n",
       "<table border=\"1\" class=\"dataframe\">\n",
       "  <thead>\n",
       "    <tr style=\"text-align: right;\">\n",
       "      <th></th>\n",
       "      <th>status</th>\n",
       "    </tr>\n",
       "    <tr>\n",
       "      <th>loan product</th>\n",
       "      <th></th>\n",
       "    </tr>\n",
       "  </thead>\n",
       "  <tbody>\n",
       "    <tr>\n",
       "      <th>Auto</th>\n",
       "      <td>0.517467</td>\n",
       "    </tr>\n",
       "    <tr>\n",
       "      <th>Boat</th>\n",
       "      <td>0.543860</td>\n",
       "    </tr>\n",
       "    <tr>\n",
       "      <th>Boat - Variable</th>\n",
       "      <td>0.666667</td>\n",
       "    </tr>\n",
       "    <tr>\n",
       "      <th>CD Secured</th>\n",
       "      <td>0.636364</td>\n",
       "    </tr>\n",
       "    <tr>\n",
       "      <th>CD Secured (Balloon)</th>\n",
       "      <td>1.000000</td>\n",
       "    </tr>\n",
       "    <tr>\n",
       "      <th>Credit Builder</th>\n",
       "      <td>0.555556</td>\n",
       "    </tr>\n",
       "    <tr>\n",
       "      <th>Personal Line of Credit</th>\n",
       "      <td>0.090909</td>\n",
       "    </tr>\n",
       "    <tr>\n",
       "      <th>RV</th>\n",
       "      <td>0.526316</td>\n",
       "    </tr>\n",
       "    <tr>\n",
       "      <th>Ready Cash</th>\n",
       "      <td>0.000000</td>\n",
       "    </tr>\n",
       "    <tr>\n",
       "      <th>Recreational Toys</th>\n",
       "      <td>0.392857</td>\n",
       "    </tr>\n",
       "    <tr>\n",
       "      <th>Share Secured</th>\n",
       "      <td>0.666667</td>\n",
       "    </tr>\n",
       "    <tr>\n",
       "      <th>Unsecured/Signature</th>\n",
       "      <td>0.075314</td>\n",
       "    </tr>\n",
       "    <tr>\n",
       "      <th>VISA Consumer 12.95</th>\n",
       "      <td>0.250000</td>\n",
       "    </tr>\n",
       "    <tr>\n",
       "      <th>VISA Consumer 9.95</th>\n",
       "      <td>0.200000</td>\n",
       "    </tr>\n",
       "    <tr>\n",
       "      <th>VISA Secured</th>\n",
       "      <td>0.604651</td>\n",
       "    </tr>\n",
       "  </tbody>\n",
       "</table>\n",
       "</div>"
      ],
      "text/plain": [
       "                           status\n",
       "loan product                     \n",
       "Auto                     0.517467\n",
       "Boat                     0.543860\n",
       "Boat - Variable          0.666667\n",
       "CD Secured               0.636364\n",
       "CD Secured (Balloon)     1.000000\n",
       "Credit Builder           0.555556\n",
       "Personal Line of Credit  0.090909\n",
       "RV                       0.526316\n",
       "Ready Cash               0.000000\n",
       "Recreational Toys        0.392857\n",
       "Share Secured            0.666667\n",
       "Unsecured/Signature      0.075314\n",
       "VISA Consumer 12.95      0.250000\n",
       "VISA Consumer 9.95       0.200000\n",
       "VISA Secured             0.604651"
      ]
     },
     "execution_count": 82,
     "metadata": {},
     "output_type": "execute_result"
    }
   ],
   "source": [
    "pivot = df.pivot_table(values='status', columns='loan product', aggfunc='mean')\n",
    "pivot = pivot.transpose()\n",
    "pivot"
   ]
  },
  {
   "cell_type": "code",
   "execution_count": 81,
   "id": "101dac59",
   "metadata": {},
   "outputs": [
    {
     "data": {
      "image/png": "[encoded data removed]",
      "text/plain": [
       "<Figure size 360x360 with 2 Axes>"
      ]
     },
     "metadata": {
      "needs_background": "light"
     },
     "output_type": "display_data"
    }
   ],
   "source": [
    "fig,ax=plt.subplots(figsize=(5, 5))\n",
    "sns.heatmap(pivot,cmap='Blues',ax=ax)\n",
    "plt.show()"
   ]
  },
  {
   "cell_type": "markdown",
   "id": "62c7bc56",
   "metadata": {},
   "source": [
    "The loan with the best chance of being approved is a CD Secured Balloon loan. This is understandable as CD secured loans offer essentially no risk, because the collateral is funds secured in a CD. Other products that are easy to secure are also more likely to be approved, such as CD Secured, VISA Secured, and Share Secured loans. \n",
    "\n",
    "Interestingly, Variable Rate Boat loans are more likely to be approved than their fixed rate counterparts. One possible explanation for this is that variable rates are only used on boats for more expensive, longer term loans. Applicants applying for such an expensive boat may be more likely to have good credit history and income. However, testing this is outside the scope of this analysis."
   ]
  },
  {
   "cell_type": "markdown",
   "id": "17b67f39",
   "metadata": {},
   "source": [
    "# 4. What is the most important factor to be approved?"
   ]
  },
  {
   "cell_type": "code",
   "execution_count": 83,
   "id": "fd82a928",
   "metadata": {},
   "outputs": [
    {
     "data": {
      "text/plain": [
       "<AxesSubplot:>"
      ]
     },
     "execution_count": 83,
     "metadata": {},
     "output_type": "execute_result"
    },
    {
     "data": {
      "image/png": "[encoded data removed]",
      "text/plain": [
       "<Figure size 576x576 with 2 Axes>"
      ]
     },
     "metadata": {
      "needs_background": "light"
     },
     "output_type": "display_data"
    }
   ],
   "source": [
    "corr_df = df.drop(['amount approved', 'approved rate', 'monthly payment decision'], axis=1)\n",
    "plt.figure(figsize=(8, 8))\n",
    "sns.heatmap(corr_df.corr(), annot=True, fmt='.2f')"
   ]
  },
  {
   "cell_type": "markdown",
   "id": "1089af02",
   "metadata": {},
   "source": [
    "Once the features that are dependent on approval, such as the approved interest rate, are removed, we can see that there are not any features that are strongly correlated with the loan decision. Income (annual or monthly) and credit are the most important, with a correlation factor of 0.18."
   ]
  },
  {
   "cell_type": "markdown",
   "id": "e403ec6d",
   "metadata": {},
   "source": [
    "# 5. What is the mean credit score? How does this compare to the national average credit score? "
   ]
  },
  {
   "cell_type": "code",
   "execution_count": 84,
   "id": "647686e5",
   "metadata": {},
   "outputs": [
    {
     "name": "stdout",
     "output_type": "stream",
     "text": [
      "Average credit score in data set: 419\n",
      "Average credit score in the USA (Experian): 698\n",
      "National average data retrieved from https://www.equifax.com/personal/education/credit/score/average-credit-score-state/#:~:text=grant%20you%20credit.-,The%20average%20credit%20score%20in%20the%20United%20States%20is%20698,check%20your%20credit%20scores%20regularly.\n"
     ]
    }
   ],
   "source": [
    "avg_credit = int(df['credit score'].mean())\n",
    "national_avg_credit = 698\n",
    "\n",
    "print(f'Average credit score in data set: {avg_credit}')\n",
    "print(f'Average credit score in the USA (Experian): {national_avg_credit}')\n",
    "print('National average data retrieved from https://www.equifax.com/personal/education/credit/score/average-credit-score-state/#:~:text=grant%20you%20credit.-,The%20average%20credit%20score%20in%20the%20United%20States%20is%20698,check%20your%20credit%20scores%20regularly.')"
   ]
  },
  {
   "cell_type": "markdown",
   "id": "29a4cd99",
   "metadata": {},
   "source": [
    "# 6. What are the mean and median incomes? How does this compare to national averages?"
   ]
  },
  {
   "cell_type": "code",
   "execution_count": 86,
   "id": "5c8aa216",
   "metadata": {},
   "outputs": [
    {
     "name": "stdout",
     "output_type": "stream",
     "text": [
      "Average annual income in data set: $38876\n",
      "Average median income in data set: $31200\n",
      "\n",
      "National average income in the USA: $51916\n",
      "National median income in the USA: $34248\n",
      "\n",
      "National averages retreived from https://policyadvice.net/insurance/insights/average-american-income/#:~:text=What%20is%20the%20average%20American%20Wage%3F,tendency%20for%20all%20the%20data.\n"
     ]
    }
   ],
   "source": [
    "import statistics as stats\n",
    "\n",
    "avg_income = int(df['annual income'].mean())\n",
    "med_income = int(stats.median(df['annual income']))\n",
    "\n",
    "national_avg_income = 51916\n",
    "national_med_income = 34248\n",
    "\n",
    "print(f'Average annual income in data set: ${avg_income}')\n",
    "print(f'Average median income in data set: ${med_income}')\n",
    "print(f'\\nNational average income in the USA: ${national_avg_income}')\n",
    "print(f'National median income in the USA: ${national_med_income}')\n",
    "print('\\nNational averages retreived from https://policyadvice.net/insurance/insights/average-american-income/#:~:text=What%20is%20the%20average%20American%20Wage%3F,tendency%20for%20all%20the%20data.')"
   ]
  },
  {
   "cell_type": "markdown",
   "id": "2a8537b5",
   "metadata": {},
   "source": [
    "We can see that the average income for the dataset is significantly lower compared to national averages, while the median is comparable. Income typically has a highly skewed distribution, with a smaller portion of high-income earners bringing up the average. Based on this data, it appears that the economic region this data was gathered from contains a relatively lower concentration of those earners. "
   ]
  },
  {
   "cell_type": "markdown",
   "id": "c8a6966f",
   "metadata": {},
   "source": [
    "# 7. Are most approved loans approved for the amount requested?"
   ]
  },
  {
   "cell_type": "code",
   "execution_count": 87,
   "id": "a6610ba8",
   "metadata": {},
   "outputs": [],
   "source": [
    "# utility function \n",
    "# tests if the approved loan amount is within a given percentage of the requested amount\n",
    "# returns list of bools\n",
    "def compare_approval_amount(req, appr, percent):\n",
    "    is_within_range = []\n",
    "    for i in range(len(req)):\n",
    "        within_range = True\n",
    "        lower = req[i] - req[i] * percent\n",
    "        if appr[i] < lower:\n",
    "            within_range = False\n",
    "        is_within_range.append(within_range)\n",
    "    return is_within_range"
   ]
  },
  {
   "cell_type": "code",
   "execution_count": 111,
   "id": "fc4d5d7f",
   "metadata": {},
   "outputs": [
    {
     "name": "stdout",
     "output_type": "stream",
     "text": [
      "Out of the 36.36% of loans that were approved, the following percentages reflect how many were approved for the requested amount:\n",
      "\n",
      "          Approved for an amount 90% or more of the requested amount: 96.34%\n",
      "\n",
      "          Approved for an amount less than 90% of the requested amount: 3.66%\n"
     ]
    }
   ],
   "source": [
    "# create inputs for utility function\n",
    "approved_requested = list(df.loc[df['status']==1]['amount requested'])\n",
    "approved_approved = list(df.loc[df['status']==1]['amount approved'])\n",
    "comparison_val = 0.10\n",
    "\n",
    "# compare whether approved and requested amounts are within a given threshold of each other\n",
    "comps = compare_approval_amount(approved_requested, approved_approved, comparison_val)\n",
    "\n",
    "# calculate percentages\n",
    "num_approved = df.loc[df['status']==1].size\n",
    "\n",
    "num_true = comps.count(True)\n",
    "percent_true = num_true / len(comps) * 100\n",
    "\n",
    "num_false = comps.count(False)\n",
    "percent_false = num_false / len(comps) * 100\n",
    "\n",
    "print(f'Out of the {percent_app:.2f}% of loans that were approved, the following percentages reflect \\\n",
    "how many were approved for the requested amount:')\n",
    "\n",
    "print(f'\\n          Approved for an amount 90% or more of the requested amount: {percent_true:.2f}%')\n",
    "print(f'\\n          Approved for an amount less than 90% of the requested amount: {percent_false:.2f}%')"
   ]
  },
  {
   "cell_type": "code",
   "execution_count": 112,
   "id": "c0c35685",
   "metadata": {},
   "outputs": [],
   "source": [
    "# save cleaned dataframe\n",
    "df.to_csv('cleaned_consumer_loans.csv')"
   ]
  }
 ],
 "metadata": {
  "kernelspec": {
   "display_name": "Python 3 (ipykernel)",
   "language": "python",
   "name": "python3"
  },
  "language_info": {
   "codemirror_mode": {
    "name": "ipython",
    "version": 3
   },
   "file_extension": ".py",
   "mimetype": "text/x-python",
   "name": "python",
   "nbconvert_exporter": "python",
   "pygments_lexer": "ipython3",
   "version": "3.9.12"
  }
 },
 "nbformat": 4,
 "nbformat_minor": 5
}
